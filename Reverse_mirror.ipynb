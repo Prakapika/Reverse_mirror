{
 "cells": [
  {
   "cell_type": "code",
   "execution_count": 7,
   "id": "d81de3c4",
   "metadata": {},
   "outputs": [
    {
     "name": "stdout",
     "output_type": "stream",
     "text": [
      "Enter the word to reverse:Prakash\n",
      "The word after reversing hsakarP \n"
     ]
    }
   ],
   "source": [
    "reverse = input(\"Enter the word to reverse:\")\n",
    "s = \" \"\n",
    "for i in reverse:\n",
    "    s = i+s\n",
    "print(\"The word after reversing\", s)\n",
    "   "
   ]
  },
  {
   "cell_type": "code",
   "execution_count": null,
   "id": "40935dc7",
   "metadata": {},
   "outputs": [],
   "source": []
  }
 ],
 "metadata": {
  "kernelspec": {
   "display_name": "Python 3 (ipykernel)",
   "language": "python",
   "name": "python3"
  },
  "language_info": {
   "codemirror_mode": {
    "name": "ipython",
    "version": 3
   },
   "file_extension": ".py",
   "mimetype": "text/x-python",
   "name": "python",
   "nbconvert_exporter": "python",
   "pygments_lexer": "ipython3",
   "version": "3.10.6"
  }
 },
 "nbformat": 4,
 "nbformat_minor": 5
}
